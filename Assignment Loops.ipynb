{
 "cells": [
  {
   "cell_type": "code",
   "execution_count": 6,
   "id": "3db3946b-2ec3-4f4e-8e71-232a4a7acbb0",
   "metadata": {},
   "outputs": [
    {
     "name": "stdout",
     "output_type": "stream",
     "text": [
      "12345"
     ]
    }
   ],
   "source": [
    "# Q1 Answer: Printing numbers from 1 to 5 using while loops\n",
    "i = 1\n",
    "while i<=5:\n",
    "    print(i, end=\"\")\n",
    "    i += 1"
   ]
  },
  {
   "cell_type": "code",
   "execution_count": 7,
   "id": "015973c6-0059-4076-916c-aa04dc9a50dc",
   "metadata": {},
   "outputs": [
    {
     "name": "stdout",
     "output_type": "stream",
     "text": [
      "The sum of all numbers from 1 to 10 is 55\n"
     ]
    }
   ],
   "source": [
    "# Q2 Answer: Calculate sum of numbers from 1 to 10 using a while loop\n",
    "i = 1\n",
    "sum = 0\n",
    "while i <= 10:\n",
    "    sum += i\n",
    "    i += 1\n",
    "print(\"The sum of all numbers from 1 to 10 is\", sum)"
   ]
  },
  {
   "cell_type": "code",
   "execution_count": 2,
   "id": "dc2dd34c-2371-48a0-8f4e-4c482d8fea93",
   "metadata": {},
   "outputs": [
    {
     "name": "stdin",
     "output_type": "stream",
     "text": [
      "Enter n :  5\n"
     ]
    },
    {
     "name": "stdout",
     "output_type": "stream",
     "text": [
      "The factorial of 5 is 120\n"
     ]
    }
   ],
   "source": [
    "# Q3 Answer: Calculating the factorial of a number using the for loop\n",
    "\n",
    "n = int(input(\"Enter n : \"))\n",
    "# We know that factorial does not exist for negative numbers and 0!=1!=1\n",
    "factorial = 1\n",
    "if n < 0:\n",
    "    print(\"Factorial does not exist for negative numbers\")\n",
    "elif n == 0 or n == 1:\n",
    "    print(\"The factorial of\", n, \"is 1\")\n",
    "else:\n",
    "    for i in range(1,n+1):\n",
    "        factorial = factorial*i\n",
    "    print(\"The factorial of\", n, \"is\", factorial)"
   ]
  },
  {
   "cell_type": "code",
   "execution_count": 1,
   "id": "e45a1fc9-ceee-4ff2-bf14-13e193589ccc",
   "metadata": {},
   "outputs": [
    {
     "name": "stdin",
     "output_type": "stream",
     "text": [
      "Enter the string : Urvi\n"
     ]
    },
    {
     "name": "stdout",
     "output_type": "stream",
     "text": [
      "Total vowels are : 2\n"
     ]
    }
   ],
   "source": [
    "# Q4 Answer: Number of vowels in a string using a for loop\n",
    "#take user input\n",
    "String = input('Enter the string :')\n",
    "#Initialize the count variable\n",
    "count = 0\n",
    "#to check for less conditions\n",
    "#keep string in lowercase\n",
    "String = String.lower()\n",
    "# Iterate over the string to find vowels\n",
    "for i in String:\n",
    "    if i == 'a' or i == 'e' or i == 'i' or i == 'o' or i == 'u':\n",
    "        #if True\n",
    "        count+=1\n",
    "#check if any vowel found\n",
    "if count == 0:\n",
    "    print('No vowels found')\n",
    "else:\n",
    "    print('Total vowels are :', str(count))"
   ]
  },
  {
   "cell_type": "code",
   "execution_count": 3,
   "id": "f5875564-001d-4bfa-a837-fe186237237a",
   "metadata": {},
   "outputs": [
    {
     "name": "stdin",
     "output_type": "stream",
     "text": [
      "Enter n:  4\n"
     ]
    },
    {
     "name": "stdout",
     "output_type": "stream",
     "text": [
      "1\n",
      "12\n",
      "123\n",
      "1234\n"
     ]
    }
   ],
   "source": [
    "# Q5 Answer; Printing a pattern of triangle using a nested loop \n",
    "n = int(input(\"Enter n: \"))\n",
    "for i in range(1, n+1):  # Loop for rows\n",
    "        for j in range(1,i+1):  # Loop for columns\n",
    "          print(j,end=\"\")\n",
    "        print()"
   ]
  },
  {
   "cell_type": "code",
   "execution_count": 4,
   "id": "67528827-87fa-4a53-8f9e-7a74100d0d88",
   "metadata": {},
   "outputs": [
    {
     "name": "stdin",
     "output_type": "stream",
     "text": [
      "Enter n:  13\n"
     ]
    },
    {
     "name": "stdout",
     "output_type": "stream",
     "text": [
      "13 * 1 = 13\n",
      "13 * 2 = 26\n",
      "13 * 3 = 39\n",
      "13 * 4 = 52\n",
      "13 * 5 = 65\n",
      "13 * 6 = 78\n",
      "13 * 7 = 91\n",
      "13 * 8 = 104\n",
      "13 * 9 = 117\n",
      "13 * 10 = 130\n"
     ]
    }
   ],
   "source": [
    "# Q6 Answer: Generating a multiplication table using nested loops\n",
    "n = int(input(\"Enter n: \"))\n",
    "for i in range(1,11):\n",
    "    print(n, \"*\", i, \"=\", n*i)"
   ]
  },
  {
   "cell_type": "code",
   "execution_count": null,
   "id": "3d7e1917-696f-4a8e-bc88-278f659ae981",
   "metadata": {},
   "outputs": [],
   "source": []
  }
 ],
 "metadata": {
  "kernelspec": {
   "display_name": "Python 3 (ipykernel)",
   "language": "python",
   "name": "python3"
  },
  "language_info": {
   "codemirror_mode": {
    "name": "ipython",
    "version": 3
   },
   "file_extension": ".py",
   "mimetype": "text/x-python",
   "name": "python",
   "nbconvert_exporter": "python",
   "pygments_lexer": "ipython3",
   "version": "3.10.8"
  }
 },
 "nbformat": 4,
 "nbformat_minor": 5
}
